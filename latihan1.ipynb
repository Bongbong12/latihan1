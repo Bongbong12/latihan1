{
 "cells": [
  {
   "cell_type": "code",
   "execution_count": 4,
   "id": "205bbc8a",
   "metadata": {},
   "outputs": [
    {
     "name": "stdout",
     "output_type": "stream",
     "text": [
      "hello neva\n",
      "hello kamu\n",
      "hello world\n"
     ]
    }
   ],
   "source": [
    "print(\"hello neva\")\n",
    "print(\"hello kamu\")\n",
    "print(\"hello world\")"
   ]
  },
  {
   "cell_type": "code",
   "execution_count": 5,
   "id": "1ec1624e",
   "metadata": {},
   "outputs": [
    {
     "name": "stdout",
     "output_type": "stream",
     "text": [
      "7\n"
     ]
    }
   ],
   "source": [
    "print (2+5)"
   ]
  },
  {
   "cell_type": "code",
   "execution_count": 10,
   "id": "e3d49656",
   "metadata": {},
   "outputs": [
    {
     "name": "stdout",
     "output_type": "stream",
     "text": [
      "hasil dari panjang * lebar adalah 50\n"
     ]
    }
   ],
   "source": [
    "panjang = 5\n",
    "lebar = 10\n",
    "print(\"hasil dari panjang * lebar adalah\" , panjang*lebar)"
   ]
  },
  {
   "cell_type": "code",
   "execution_count": null,
   "id": "e9888736",
   "metadata": {},
   "outputs": [],
   "source": []
  }
 ],
 "metadata": {
  "kernelspec": {
   "display_name": "Python 3 (ipykernel)",
   "language": "python",
   "name": "python3"
  },
  "language_info": {
   "codemirror_mode": {
    "name": "ipython",
    "version": 3
   },
   "file_extension": ".py",
   "mimetype": "text/x-python",
   "name": "python",
   "nbconvert_exporter": "python",
   "pygments_lexer": "ipython3",
   "version": "3.9.12"
  }
 },
 "nbformat": 4,
 "nbformat_minor": 5
}
